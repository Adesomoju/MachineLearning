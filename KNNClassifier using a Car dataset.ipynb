{
 "cells": [
  {
   "cell_type": "code",
   "execution_count": 43,
   "metadata": {},
   "outputs": [],
   "source": [
    "import pandas as pd\n",
    "import numpy as np\n",
    "from sklearn import preprocessing, cross_validation, neighbors, tree"
   ]
  },
  {
   "cell_type": "code",
   "execution_count": 44,
   "metadata": {},
   "outputs": [],
   "source": [
    "df = pd.read_csv('car.data')\n",
    "df.replace('?', -99999, inplace = True)\n",
    "header = df.head\n",
    "#print(header) \n",
    "\n",
    "def trans_data(x):\n",
    "    if x == 'vhigh':\n",
    "        return 4\n",
    "    if x == 'high':\n",
    "        return 3\n",
    "    if x == 'med':\n",
    "        return 2\n",
    "    if x == 'low':\n",
    "        return 1\n",
    "   \n",
    "    \n",
    "def new_lug_boot(x):\n",
    "    if x == 'big':\n",
    "        return 3\n",
    "    if x == 'med':\n",
    "        return 2\n",
    "    if x == 'small':\n",
    "        return 1\n",
    "    \n",
    "def new_doors_peeps(x):\n",
    "    if x == '2':\n",
    "        return 2\n",
    "    if x == '3':\n",
    "        return 3\n",
    "    if x == '4':\n",
    "        return 4\n",
    "    if x == '5more':\n",
    "        return 5\n",
    "    if x == 'more':\n",
    "        return 4\n",
    "    \n",
    "df['new_buy'] = df['buying'].apply(trans_data)\n",
    "df.drop(['buying'], 1, inplace = True)\n",
    "\n",
    "df['new_main'] = df['maint'].apply(trans_data)\n",
    "df.drop(['maint'], 1, inplace = True)\n",
    "\n",
    "df['new_safty'] = df['safety'].apply(trans_data)\n",
    "df.drop(['safety'], 1, inplace = True)\n",
    "\n",
    "df['new_boot'] = df['lug_boot'].apply(new_lug_boot)\n",
    "df.drop(['lug_boot'], 1, inplace = True)\n",
    "\n",
    "df['new_peeps'] = df['persons'].apply(new_doors_peeps)\n",
    "df.drop(['persons'], 1, inplace = True)\n",
    "\n",
    "df['new_doors'] = df['doors'].apply(new_doors_peeps)\n",
    "df.drop(['doors'], 1, inplace = True)\n",
    "\n",
    "#print(header)"
   ]
  },
  {
   "cell_type": "code",
   "execution_count": 45,
   "metadata": {},
   "outputs": [],
   "source": [
    "x = np.array(df.drop(['class'], 1))\n",
    "y = np.array(df['class'])"
   ]
  },
  {
   "cell_type": "code",
   "execution_count": 46,
   "metadata": {},
   "outputs": [],
   "source": [
    "x_test,x_train,y_test,y_train = cross_validation.train_test_split(x,y, test_size = 0.2)"
   ]
  },
  {
   "cell_type": "code",
   "execution_count": 49,
   "metadata": {},
   "outputs": [
    {
     "data": {
      "text/plain": [
       "DecisionTreeClassifier(class_weight=None, criterion='gini', max_depth=None,\n",
       "            max_features=None, max_leaf_nodes=None,\n",
       "            min_impurity_decrease=0.0, min_impurity_split=None,\n",
       "            min_samples_leaf=1, min_samples_split=2,\n",
       "            min_weight_fraction_leaf=0.0, presort=False, random_state=None,\n",
       "            splitter='best')"
      ]
     },
     "execution_count": 49,
     "metadata": {},
     "output_type": "execute_result"
    }
   ],
   "source": [
    "#clf = neighbors.KNeighborsClassifier()\n",
    "clf = tree.DecisionTreeClassifier()\n",
    "clf.fit(x_train, y_train)"
   ]
  },
  {
   "cell_type": "code",
   "execution_count": 50,
   "metadata": {},
   "outputs": [
    {
     "name": "stdout",
     "output_type": "stream",
     "text": [
      "0.944283646889\n"
     ]
    }
   ],
   "source": [
    "accuracy = clf.score(x_test, y_test)\n",
    "print (accuracy)"
   ]
  },
  {
   "cell_type": "code",
   "execution_count": 51,
   "metadata": {},
   "outputs": [
    {
     "name": "stdout",
     "output_type": "stream",
     "text": [
      "['unacc']\n"
     ]
    }
   ],
   "source": [
    "new_values = np.array([3,2,2,2,1,3 ])\n",
    "new_values = new_values.reshape(1, -1)\n",
    "prediction = clf.predict(new_values)\n",
    "print(prediction)"
   ]
  },
  {
   "cell_type": "code",
   "execution_count": null,
   "metadata": {
    "collapsed": true
   },
   "outputs": [],
   "source": []
  }
 ],
 "metadata": {
  "kernelspec": {
   "display_name": "Python 2",
   "language": "python",
   "name": "python2"
  },
  "language_info": {
   "codemirror_mode": {
    "name": "ipython",
    "version": 2
   },
   "file_extension": ".py",
   "mimetype": "text/x-python",
   "name": "python",
   "nbconvert_exporter": "python",
   "pygments_lexer": "ipython2",
   "version": "2.7.14"
  }
 },
 "nbformat": 4,
 "nbformat_minor": 2
}
